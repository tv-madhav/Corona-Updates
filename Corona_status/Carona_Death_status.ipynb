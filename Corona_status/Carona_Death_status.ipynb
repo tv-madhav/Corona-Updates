{
 "cells": [
  {
   "cell_type": "code",
   "execution_count": null,
   "metadata": {
    "scrolled": true
   },
   "outputs": [],
   "source": [
    "# When i input countries name it should print number of corona cases in that country in live at that time.\n",
    "\n",
    "import requests\n",
    "import pandas as pd \n",
    "from bs4 import BeautifulSoup\n",
    "import matplotlib.pyplot as plt\n",
    "\n",
    "\n",
    "url = 'https://www.worldometers.info/coronavirus/'\n",
    "r = requests.get(url)\n",
    "data = r.text\n",
    "soup = BeautifulSoup(data,'html.parser')\n",
    "\n",
    "# Printing basic data\n",
    "print(soup.title.text)\n",
    "print()\n",
    "live_data = soup.find_all('div',id='maincounter-wrap')\n",
    "for i in live_data:\n",
    "\tprint(i.text)\n",
    "\n",
    "print()\n",
    "print('Analysis based on individual countries')\n",
    "print()\n",
    "\n",
    "table_body = soup.find('tbody')\n",
    "table_rows = table_body.find_all('tr')\n",
    "\n",
    "countries = []\n",
    "deaths = []\n",
    "\n",
    "for tr in table_rows:\n",
    "\ttd = tr.find_all('td')\n",
    "\tcountries.append(td[0].text)\n",
    "\tdeaths.append(td[3].text.strip())\n",
    "\n",
    "indices = [i for i in range(1,len(countries)+1)]\n",
    "headers = ['Countries','Total Deaths']\n",
    "df = pd.DataFrame(list(zip(countries,deaths)),index=indices,columns=headers)\n",
    "\n",
    "print(df)\n",
    "\n",
    "# Saving it to csv file\n",
    "df.to_csv('corona-virus-cases.csv')\n",
    "\n"
   ]
  },
  {
   "cell_type": "code",
   "execution_count": 2,
   "metadata": {},
   "outputs": [
    {
     "name": "stdout",
     "output_type": "stream",
     "text": [
      "Enter Country Name\n",
      "India\n",
      "['41', 'India', '10']\n"
     ]
    }
   ],
   "source": [
    "#run csv code update\n",
    "import csv \n",
    "\n",
    "def searchcountry():\n",
    "    country = input('Enter Country Name\\n')\n",
    "    csv_file = csv.reader(open('corona-virus-cases.csv'))\n",
    "    \n",
    "    \n",
    "    for row in csv_file:\n",
    "        if country == row[1]:\n",
    "            print(row)\n",
    "            \n",
    "searchcountry()\n",
    "            "
   ]
  },
  {
   "cell_type": "code",
   "execution_count": null,
   "metadata": {},
   "outputs": [],
   "source": []
  }
 ],
 "metadata": {
  "kernelspec": {
   "display_name": "Python 3",
   "language": "python",
   "name": "python3"
  },
  "language_info": {
   "codemirror_mode": {
    "name": "ipython",
    "version": 3
   },
   "file_extension": ".py",
   "mimetype": "text/x-python",
   "name": "python",
   "nbconvert_exporter": "python",
   "pygments_lexer": "ipython3",
   "version": "3.7.4"
  }
 },
 "nbformat": 4,
 "nbformat_minor": 2
}
